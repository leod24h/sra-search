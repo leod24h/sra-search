{
 "cells": [
  {
   "cell_type": "code",
   "execution_count": 3,
   "metadata": {},
   "outputs": [],
   "source": [
    "import pandas as pd\n",
    "import psycopg2"
   ]
  },
  {
   "cell_type": "markdown",
   "metadata": {},
   "source": [
    "### 1) Create Table metadata"
   ]
  },
  {
   "cell_type": "code",
   "execution_count": null,
   "metadata": {},
   "outputs": [],
   "source": []
  },
  {
   "cell_type": "code",
   "execution_count": null,
   "metadata": {},
   "outputs": [
    {
     "name": "stdout",
     "output_type": "stream",
     "text": [
      "Table 'metadata' created with the inferred schema.\n"
     ]
    },
    {
     "ename": "",
     "evalue": "",
     "output_type": "error",
     "traceback": [
      "\u001b[1;31mThe Kernel crashed while executing code in the current cell or a previous cell. \n",
      "\u001b[1;31mPlease review the code in the cell(s) to identify a possible cause of the failure. \n",
      "\u001b[1;31mClick <a href='https://aka.ms/vscodeJupyterKernelCrash'>here</a> for more info. \n",
      "\u001b[1;31mView Jupyter <a href='command:jupyter.viewOutput'>log</a> for further details."
     ]
    }
   ],
   "source": [
    "# Define your database connection parameters.\n",
    "DB_NAME = 'mgdb'\n",
    "DB_USER = 'postgres'\n",
    "DB_PASS = '1'\n",
    "DB_HOST = 'localhost'\n",
    "DB_PORT = '5432'\n",
    "\n",
    "# Specify the path to your sample CSV file and the desired table name.\n",
    "SAMPLE_CSV = '/media/data/tracy/SRA-Search/SRA-Curated/SRA-curated-metadata-000000000000.csv'\n",
    "TABLE_NAME = 'metadata'\n",
    "\n",
    "try:\n",
    "    # Connect to the PostgreSQL database.\n",
    "    conn = psycopg2.connect(\n",
    "        dbname=DB_NAME, \n",
    "        user=DB_USER, \n",
    "        password=DB_PASS, \n",
    "        host=DB_HOST, \n",
    "        port=DB_PORT\n",
    "    )\n",
    "    create_table_from_csv(SAMPLE_CSV, TABLE_NAME, conn)\n",
    "except Exception as e:\n",
    "    print(\"An error occurred:\", e)\n",
    "finally:\n",
    "    if conn:\n",
    "        conn.close()"
   ]
  },
  {
   "cell_type": "markdown",
   "metadata": {},
   "source": [
    "### 2) Create Table vectors"
   ]
  },
  {
   "cell_type": "code",
   "execution_count": 136,
   "metadata": {},
   "outputs": [],
   "source": [
    "import pandas as pd\n",
    "import os\n"
   ]
  },
  {
   "cell_type": "code",
   "execution_count": null,
   "metadata": {},
   "outputs": [],
   "source": [
    "import psycopg2\n",
    "# Define your database connection parameters.\n",
    "DB_NAME = 'mgdb'\n",
    "DB_USER = 'postgres'\n",
    "DB_PASS = '1'\n",
    "DB_HOST = 'localhost'\n",
    "DB_PORT = '5432'\n",
    "\n",
    "# Specify the path to your sample CSV file and the desired table name.\n",
    "TABLE_NAME = 'vectors'\n",
    "    # Build the column definitions based on the CSV header and inferred dtypes.\n",
    "\n",
    "\n",
    "\n",
    "conn = psycopg2.connect(\n",
    "    dbname=DB_NAME, \n",
    "    user=DB_USER, \n",
    "    password=DB_PASS, \n",
    "    host=DB_HOST, \n",
    "    port=DB_PORT\n",
    ")\n",
    "# Join the column definitions into the CREATE TABLE statement.\n",
    "columns_str = \",\\n    \".join(columns)\n",
    "create_table_query = f\"\"\"\n",
    "CREATE TABLE IF NOT EXISTS {TABLE_NAME} (id SERIAL PRIMARY KEY, vector vector(384));\n",
    "\"\"\"\n",
    "\n",
    "cursor = conn.cursor()\n",
    "cursor.execute(create_table_query)\n",
    "conn.commit()\n",
    "cursor.close()\n",
    "conn.close()"
   ]
  },
  {
   "cell_type": "code",
   "execution_count": null,
   "metadata": {},
   "outputs": [],
   "source": []
  }
 ],
 "metadata": {
  "kernelspec": {
   "display_name": "py39",
   "language": "python",
   "name": "python3"
  },
  "language_info": {
   "codemirror_mode": {
    "name": "ipython",
    "version": 3
   },
   "file_extension": ".py",
   "mimetype": "text/x-python",
   "name": "python",
   "nbconvert_exporter": "python",
   "pygments_lexer": "ipython3",
   "version": "undefined.undefined.undefined"
  }
 },
 "nbformat": 4,
 "nbformat_minor": 2
}
